{
 "cells": [
  {
   "cell_type": "code",
   "execution_count": null,
   "metadata": {},
   "outputs": [],
   "source": [
    "import seaborn as sns # for data visualization\n",
    "import pandas as pd # for data analysis\n",
    "import numpy as np # for numeric calculation\n",
    "import matplotlib.pyplot as plt # for data visualization"
   ]
  },
  {
   "cell_type": "code",
   "execution_count": null,
   "metadata": {},
   "outputs": [],
   "source": [
    "# Import CSV files with portfolio allocations from previous optimsation tests\n",
    "\n",
    "plot1 = pd.read_csv(\"history2018-01-01to2019-01-01_pop100_ngen50000_K5_Max0.25_38.0assets_1.csv\", delimiter = \",\")\n",
    "plot2 = pd.read_csv(\"history2019-01-01to2020-01-01_pop100_ngen50000_K5_Max0.25_38.0assets_2.csv\", delimiter = \",\")\n",
    "plot3 = pd.read_csv(\"history2020-01-01to2021-01-01_pop100_ngen50000_K5_Max0.25_38.0assets_3.csv\", delimiter = \",\")\n",
    "plot4 = pd.read_csv(\"history2021-01-01to2022-01-01_pop100_ngen50000_K5_Max0.25_38.0assets_4.csv\", delimiter = \",\")\n",
    "\n",
    "plot_list = [plot1, plot2, plot3, plot4]\n"
   ]
  },
  {
   "cell_type": "code",
   "execution_count": null,
   "metadata": {},
   "outputs": [],
   "source": [
    "# Drop final set of columns that contain descriptive statistics of the overall portfolio leaving only the\n",
    "\n",
    "for i in plot_list:\n",
    "    i.drop(i.iloc[:, -4:], axis = 1, inplace = True)"
   ]
  },
  {
   "cell_type": "code",
   "execution_count": null,
   "metadata": {},
   "outputs": [],
   "source": [
    "# Generate heat map showing level of allocation to each variable for each test included in list\n",
    "\n",
    "for count, value in enumerate(plot_list):\n",
    "    plt.figure(figsize=(6.5,6))\n",
    "    sns.heatmap(value, cbar=True, yticklabels = False, xticklabels = False, cmap = 'coolwarm')\n",
    "    plt.tight_layout()\n",
    "    plt.savefig(f\"Heat_Map_{count}.png\", dpi = 500) "
   ]
  }
 ],
 "metadata": {
  "kernelspec": {
   "display_name": "Python 3.8.10 64-bit",
   "language": "python",
   "name": "python3"
  },
  "language_info": {
   "codemirror_mode": {
    "name": "ipython",
    "version": 3
   },
   "file_extension": ".py",
   "mimetype": "text/x-python",
   "name": "python",
   "nbconvert_exporter": "python",
   "pygments_lexer": "ipython3",
   "version": "3.8.10"
  },
  "orig_nbformat": 4,
  "vscode": {
   "interpreter": {
    "hash": "916dbcbb3f70747c44a77c7bcd40155683ae19c65e1c03b4aa3499c5328201f1"
   }
  }
 },
 "nbformat": 4,
 "nbformat_minor": 2
}
