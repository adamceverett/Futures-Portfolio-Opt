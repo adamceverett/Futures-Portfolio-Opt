{
 "cells": [
  {
   "cell_type": "markdown",
   "metadata": {},
   "source": [
    "##### _Asset Price Data Import and Generator of Mean Return Vector & Covariance Matrix for Portfolio Optimisation_"
   ]
  },
  {
   "cell_type": "code",
   "execution_count": 2,
   "metadata": {},
   "outputs": [],
   "source": [
    "import pandas as pd\n",
    "import numpy as np\n",
    "import sqlite3\n",
    "\n",
    "conn = sqlite3.connect('continuous_futures.db')"
   ]
  },
  {
   "cell_type": "markdown",
   "metadata": {},
   "source": [
    "##### _SQL Query to import specific set of assets & date range from database:_"
   ]
  },
  {
   "cell_type": "code",
   "execution_count": 3,
   "metadata": {},
   "outputs": [],
   "source": [
    "assets = pd.read_sql(\"SELECT date, quandl_code, settle FROM \\\n",
    "Continuous_Futures WHERE method = 'FW' AND depth = 1 AND exchange = 'CME' \\\n",
    "AND date BETWEEN '2019-01-01' AND '2019-03-01'\", conn)"
   ]
  },
  {
   "cell_type": "code",
   "execution_count": null,
   "metadata": {},
   "outputs": [],
   "source": [
    "assets.set_index('date', inplace = True)\n",
    "\n",
    "assets_p = assets.pivot(columns=\"quandl_code\", values=\"settle\")\n",
    "\n",
    "assets_p.sort_values(by = 'date', ascending = False, inplace = True)"
   ]
  },
  {
   "cell_type": "code",
   "execution_count": null,
   "metadata": {},
   "outputs": [],
   "source": [
    "# Check whether there are a significant number of missing price values for certain assets within the chosen date range\n",
    "assets_p.isna().sum()"
   ]
  },
  {
   "cell_type": "code",
   "execution_count": 63,
   "metadata": {},
   "outputs": [],
   "source": [
    "asset_list = assets_p.columns[1:].to_list()\n",
    "\n",
    "daily_returns = pd.DataFrame()"
   ]
  },
  {
   "cell_type": "code",
   "execution_count": 64,
   "metadata": {},
   "outputs": [],
   "source": [
    "for i in asset_list:\n",
    "    daily_returns[f'{i}_long'] = ((assets_p[f'{i}'] - assets_p[f'{i}'].shift(-1)) / assets_p[f'{i}'].shift(-1))\n",
    "    daily_returns[f'{i}_short'] = ((assets_p[f'{i}'].shift(-1) - assets_p[f'{i}']) / assets_p[f'{i}'].shift(-1))\n",
    "\n",
    "daily_returns.dropna(inplace = True)"
   ]
  },
  {
   "cell_type": "code",
   "execution_count": 65,
   "metadata": {},
   "outputs": [],
   "source": [
    "# Create vector of mean daily return for each asset, long & short\n",
    "\n",
    "mean_return = []\n",
    "\n",
    "for i in asset_list:\n",
    "    long_return = daily_returns[f'{i}_long'].mean()\n",
    "    short_return = daily_returns[f'{i}_short'].mean()\n",
    "    mean_return.append(long_return)\n",
    "    mean_return.append(short_return)\n",
    "\n",
    "return_array = np.array(mean_return)\n",
    "\n",
    "# Create covariance matrix for asset daily return data\n",
    "\n",
    "covariance_matrix = daily_returns.cov().to_numpy()"
   ]
  },
  {
   "cell_type": "code",
   "execution_count": 66,
   "metadata": {},
   "outputs": [],
   "source": [
    "np.savetxt(\"c_matrix.csv\", covariance_matrix, delimiter=\",\")\n",
    "np.savetxt(\"m_return.csv\", return_array, delimiter=\",\")"
   ]
  }
 ],
 "metadata": {
  "kernelspec": {
   "display_name": "Python 3.8.10 64-bit",
   "language": "python",
   "name": "python3"
  },
  "language_info": {
   "codemirror_mode": {
    "name": "ipython",
    "version": 3
   },
   "file_extension": ".py",
   "mimetype": "text/x-python",
   "name": "python",
   "nbconvert_exporter": "python",
   "pygments_lexer": "ipython3",
   "version": "3.8.10"
  },
  "orig_nbformat": 4,
  "vscode": {
   "interpreter": {
    "hash": "916dbcbb3f70747c44a77c7bcd40155683ae19c65e1c03b4aa3499c5328201f1"
   }
  }
 },
 "nbformat": 4,
 "nbformat_minor": 2
}
