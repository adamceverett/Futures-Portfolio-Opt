{
 "cells": [
  {
   "cell_type": "code",
   "execution_count": null,
   "metadata": {},
   "outputs": [],
   "source": [
    "import pandas as pd\n",
    "import numpy as np\n",
    "import sqlite3\n",
    "import sklearn\n",
    "import csv\n",
    "import matplotlib.pyplot as plt\n",
    "import matplotlib as mpl\n",
    "from csv import writer\n",
    "from datetime import datetime, timedelta\n",
    "from sklearn.covariance import LedoitWolf\n",
    "from pymoo.algorithms.moo.nsga2 import NSGA2\n",
    "from pymoo.core.problem import ElementwiseProblem\n",
    "from pymoo.optimize import minimize\n",
    "from pymoo.core.callback import Callback\n",
    "from pymoo.factory import get_selection\n",
    "from pymoo.core.selection import Selection\n",
    "from pymoo.factory import get_sampling, get_crossover, get_mutation, get_termination\n",
    "from pymoo.indicators.hv import Hypervolume"
   ]
  },
  {
   "cell_type": "code",
   "execution_count": null,
   "metadata": {},
   "outputs": [],
   "source": [
    "# Define callback operator to return necessary data from optimisation run to calculate hypervolume\n",
    "\n",
    "class MyCallback(Callback):\n",
    "\n",
    "    def __init__(self) -> None:\n",
    "        super().__init__()\n",
    "        self.data[\"n_evals\"] = []\n",
    "        self.data[\"objective_values\"] = []\n",
    "    \n",
    "    def notify(self, algorithm):\n",
    "        self.data[\"n_evals\"].append(algorithm.evaluator.n_eval)\n",
    "        self.data[\"objective_values\"].append(algorithm.opt.get(\"F\"))\n",
    "\n",
    "# Import mean return vector and covariance matrix for chosen historical data to be used\n",
    "\n",
    "mreturn = np.loadtxt(\"mean_return.csv\", delimiter = ',')\n",
    "cvm = np.loadtxt(\"cvm.csv\", delimiter = ',')\n",
    "\n",
    "cardinality_constraint = 5\n",
    "cardinality_threshold = 1e-10\n",
    "max_asset_weight = 0.3\n",
    "\n",
    "population_size = 100\n",
    "number_of_generations = 100000\n",
    "\n",
    "# Ceate initial population for cardinality constrained only test\n",
    "# initial_pop = np.zeros((population_size, len(mreturn)))\n",
    "\n",
    "# for i in range(population_size):\n",
    "#     initial_pop[i,:cardinality_constraint] = np.random.rand(cardinality_constraint)\n",
    "#     initial_pop[i] = initial_pop[i] / np.sum(initial_pop[i])\n",
    "#     np.random.shuffle(initial_pop[i])\n",
    "\n",
    "# Create initial population for cardinality and max weighting test\n",
    "maxweight_cardinality_list = []\n",
    "\n",
    "while len(maxweight_cardinality_list) < population_size:\n",
    "    x = np.random.dirichlet(np.ones(cardinality_constraint), size = 1)\n",
    "    if np.all(x <= max_asset_weight):\n",
    "        maxweight_cardinality_list.append(x)\n",
    "\n",
    "initial_pop = np.zeros((population_size, len(mreturn)))\n",
    "\n",
    "for i in range(population_size):\n",
    "    initial_pop[i,:cardinality_constraint] = maxweight_cardinality_list[i]\n",
    "    np.random.shuffle(initial_pop[i])\n",
    "\n",
    "\n",
    "class MyProblem(ElementwiseProblem):\n",
    "\n",
    "    def __init__(self, mreturn, cvm):\n",
    "        super().__init__(n_var = len(mreturn),\n",
    "                         n_obj = 2,\n",
    "                         n_constr = 2,\n",
    "                         xl = np.array([0 for asset in mreturn]),\n",
    "                         xu = np.array([1 for asset in mreturn]))\n",
    "\n",
    "        self.mreturn = mreturn\n",
    "        self.cvm = cvm\n",
    "        self.K = cardinality_constraint\n",
    "\n",
    "    def _evaluate(self, x, out, *args, **kwargs):\n",
    "\n",
    "        x = x / np.sum(x) # Normalise asset weightings to collectively sum to 1\n",
    "\n",
    "        f1 = np.dot(x, (np.dot(self.cvm, x))) # Risk/variance objective function\n",
    "        \n",
    "        f2 = -(np.dot(x, self.mreturn)) # Mean return objective function\n",
    "\n",
    "        g1 = sum(asset > cardinality_threshold for asset in x) - self.K # Cardinality constraint function\n",
    "\n",
    "        g3 = (max((asset - max_asset_weight) for asset in x))\n",
    "        \n",
    "        out[\"F\"] = np.column_stack([f1, f2])\n",
    "        out[\"G\"] = [g1, g3]\n",
    "\n",
    "problem = MyProblem(mreturn, cvm)\n",
    "\n",
    "algorithm = NSGA2(pop_size = population_size, sampling = initial_pop)\n",
    "\n",
    "res = minimize(problem,\n",
    "               algorithm,\n",
    "               (\"n_gen\", number_of_generations),\n",
    "               callback = MyCallback(),\n",
    "               verbose = False,\n",
    "               save_history = False,\n",
    "               seed = None)"
   ]
  },
  {
   "cell_type": "markdown",
   "metadata": {},
   "source": [
    "##### Record necessary data from each optimisation"
   ]
  },
  {
   "cell_type": "code",
   "execution_count": null,
   "metadata": {},
   "outputs": [],
   "source": [
    "n_evals1 = res.algorithm.callback.data[\"n_evals\"]\n",
    "objective_values1 = res.algorithm.callback.data[\"objective_values\"]\n",
    "approx_ideal1 = res.F.min(axis=0)\n",
    "approx_nadir1 = res.F.max(axis=0)\n",
    "result1 = res.F"
   ]
  },
  {
   "cell_type": "code",
   "execution_count": null,
   "metadata": {},
   "outputs": [],
   "source": [
    "n_evals2 = res.algorithm.callback.data[\"n_evals\"]\n",
    "objective_values2 = res.algorithm.callback.data[\"objective_values\"]\n",
    "approx_ideal2 = res.F.min(axis=0)\n",
    "approx_nadir2 = res.F.max(axis=0)\n",
    "result2 = res.F"
   ]
  },
  {
   "cell_type": "markdown",
   "metadata": {},
   "source": [
    "##### Hypervolume"
   ]
  },
  {
   "cell_type": "code",
   "execution_count": null,
   "metadata": {},
   "outputs": [],
   "source": [
    "reference_point = np.array([1.01, 1.01])"
   ]
  },
  {
   "cell_type": "code",
   "execution_count": null,
   "metadata": {},
   "outputs": [],
   "source": [
    "metric = Hypervolume(ref_point= reference_point,\n",
    "                     norm_ref_point=False,\n",
    "                     zero_to_one=True,\n",
    "                     ideal=approx_ideal2,\n",
    "                     nadir=approx_nadir2)\n",
    "\n",
    "hv_1 = [metric.do(value) for value in objective_values2]"
   ]
  },
  {
   "cell_type": "code",
   "execution_count": null,
   "metadata": {},
   "outputs": [],
   "source": [
    "metric = Hypervolume(ref_point= reference_point,\n",
    "                     norm_ref_point=False,\n",
    "                     zero_to_one=True,\n",
    "                     ideal=approx_ideal2,\n",
    "                     nadir=approx_nadir2)\n",
    "\n",
    "hv_2 = [metric.do(value) for value in objective_values1]"
   ]
  },
  {
   "cell_type": "markdown",
   "metadata": {},
   "source": [
    "##### Plot Hypervolume and Objective Values"
   ]
  },
  {
   "cell_type": "code",
   "execution_count": null,
   "metadata": {},
   "outputs": [],
   "source": [
    "plt.figure(figsize=(6.5, 4), facecolor = 'white')\n",
    "plt.subplot(1,2,1)\n",
    "plt.xlabel(\"Function Evaluations\")\n",
    "plt.ylabel(\"Hypervolume\")\n",
    "plt.plot(n_evals1, hv_1,  color='goldenrod', lw=2)\n",
    "plt.plot(n_evals2, hv_2,  color='firebrick', lw=2)\n",
    "plt.grid()\n",
    "plt.tight_layout()\n",
    "\n",
    "plt.rc('font', size = 10)\n",
    "plt.rc('axes', titlesize = 10, labelsize = 8)\n",
    "plt.rc('axes', facecolor = 'white')\n",
    "plt.rc('xtick', labelsize = 6)\n",
    "plt.rc('ytick', labelsize = 6)\n",
    "\n",
    "plt.subplot(1,2,2)\n",
    "\n",
    "plt.scatter((result1[:, 0]), (-result1[:, 1]), s = 5, marker = \"o\", facecolors = 'goldenrod', label = 'Random')\n",
    "plt.scatter((result2[:, 0]), (-result2[:, 1]), s = 5, marker = \"o\", facecolors = 'firebrick', label = 'Initial')\n",
    "\n",
    "plt.xlabel(\"Variance of Returns\")\n",
    "plt.ylabel(\"Mean Return\")\n",
    "plt.legend(fancybox = True, shadow = True, title = \"Sampling Procedure\", fontsize = 8, markerscale = 2, loc = 4)\n",
    "plt.tight_layout()\n",
    "plt.grid()\n",
    "plt.savefig(f\"HyperVolume_ObjectiveValues_Subplot.png\", dpi = 500)"
   ]
  }
 ],
 "metadata": {
  "kernelspec": {
   "display_name": "Python 3.8.10 64-bit",
   "language": "python",
   "name": "python3"
  },
  "language_info": {
   "codemirror_mode": {
    "name": "ipython",
    "version": 3
   },
   "file_extension": ".py",
   "mimetype": "text/x-python",
   "name": "python",
   "nbconvert_exporter": "python",
   "pygments_lexer": "ipython3",
   "version": "3.8.10"
  },
  "orig_nbformat": 4,
  "vscode": {
   "interpreter": {
    "hash": "916dbcbb3f70747c44a77c7bcd40155683ae19c65e1c03b4aa3499c5328201f1"
   }
  }
 },
 "nbformat": 4,
 "nbformat_minor": 2
}
